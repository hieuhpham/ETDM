{
 "cells": [
  {
   "cell_type": "markdown",
   "metadata": {},
   "source": [
    "### Project proposal: \n",
    "\n",
    "Firstly, given the search query or topic of interests, the code will obtain the information of scientific publications from Google Scholar (or any other alternatives, for instance, ScienceDirect, Scopus, etc.), including the relevant article titles, abstracts, publication years, affiliations where the research was conducted and how many citations they have collected. Based on these, many useful statistics would be easily extracted. To name a few, what authors are most popular in the field, what institutions published most in this topic, who are the most cited authors in the field, etc.\n",
    "\n",
    "At the next level, natural language processing will be used on the text of the paper titles and their abstracts to explore the evolution of research within that scientific topic over the course of the last decades and possibly predict what would be the trend in that topic in the upcoming years."
   ]
  },
  {
   "cell_type": "markdown",
   "metadata": {},
   "source": [
    "#### For a demo, initial data was obtained from Google Scholar with the search query \"smart windows materials\""
   ]
  },
  {
   "cell_type": "markdown",
   "metadata": {},
   "source": [
    "# Plot 1"
   ]
  },
  {
   "cell_type": "markdown",
   "metadata": {},
   "source": [
    "![plot1](./pub_hist.png)"
   ]
  },
  {
   "cell_type": "markdown",
   "metadata": {},
   "source": [
    "+ The research for '***smart windows materials***' didn't exist before 1980\n",
    "+ The number of publications peaks up around 2010 and recently have declined "
   ]
  }
 ],
 "metadata": {
  "anaconda-cloud": {},
  "kernelspec": {
   "display_name": "Python [Root]",
   "language": "python",
   "name": "Python [Root]"
  },
  "language_info": {
   "codemirror_mode": {
    "name": "ipython",
    "version": 2
   },
   "file_extension": ".py",
   "mimetype": "text/x-python",
   "name": "python",
   "nbconvert_exporter": "python",
   "pygments_lexer": "ipython2",
   "version": "2.7.12"
  }
 },
 "nbformat": 4,
 "nbformat_minor": 0
}
